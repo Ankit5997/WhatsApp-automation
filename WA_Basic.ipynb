{
 "cells": [
  {
   "cell_type": "code",
   "execution_count": 1,
   "metadata": {},
   "outputs": [],
   "source": [
    "from selenium import webdriver\n",
    "import pandas as pd\n",
    "import random\n",
    "from time import sleep\n",
    "import os\n",
    "from openpyxl import load_workbook\n",
    "from selenium.webdriver.common.keys import Keys"
   ]
  },
  {
   "cell_type": "code",
   "execution_count": 2,
   "metadata": {},
   "outputs": [],
   "source": [
    "def NoAttach():\n",
    "    driver.find_element_by_xpath('//span[@data-icon=\"send\"]').click()\n",
    "    sleep(random.randint(4,10))"
   ]
  },
  {
   "cell_type": "code",
   "execution_count": 5,
   "metadata": {},
   "outputs": [],
   "source": [
    "t1 = \"Hi\"\n",
    "t2 = \"This\"\n",
    "t3 = \"is\"\n",
    "t4 = \"a Testing\"\n",
    "t5 = \"Message\"\n",
    "\n",
    "y = ['918800580566']\n",
    "\n",
    "driver = webdriver.Chrome()\n",
    "for i in range(len(y)):\n",
    "    #name=cd['Name'][i]\n",
    "    phone=y[i]\n",
    "    \n",
    "    message='''Dear,                                                                                                                                                                                             {j}\n",
    "                                                                                                                                                         {k}\n",
    "                                                                                                                                                            {l}\n",
    "                                                                                                                                                            {m}\n",
    "                                                                                                                                          {n}'''.format(j=t1, k=t2,l=t3,m=t4,n=t5)\n",
    "    \n",
    "    \n",
    "    driver.get('https://web.whatsapp.com/send?phone='+phone+'&text='+message)\n",
    "    sleep(30)\n",
    "    NoAttach()"
   ]
  }
 ],
 "metadata": {
  "kernelspec": {
   "display_name": "Python 3",
   "language": "python",
   "name": "python3"
  },
  "language_info": {
   "codemirror_mode": {
    "name": "ipython",
    "version": 3
   },
   "file_extension": ".py",
   "mimetype": "text/x-python",
   "name": "python",
   "nbconvert_exporter": "python",
   "pygments_lexer": "ipython3",
   "version": "3.7.0"
  }
 },
 "nbformat": 4,
 "nbformat_minor": 2
}
